{
 "cells": [
  {
   "cell_type": "markdown",
   "metadata": {},
   "source": [
    "\n",
    "<div>\n",
    "    &nbsp;\n",
    "    <br>\n",
    "</div>\n",
    "\n",
    "\n",
    "# Regression in Keras\n",
    "We will be using the dataset provided in the assignment\n",
    "\n",
    "The dataset is about the compressive strength of different samples of concrete based on the volumes of the different ingredients that were used to make them. Ingredients include:\n",
    "\n",
    "1. Cement\n",
    "\n",
    "2. Blast Furnace Slag\n",
    "\n",
    "3. Fly Ash\n",
    "\n",
    "4. Water\n",
    "\n",
    "5. Superplasticizer\n",
    "\n",
    "6. Coarse Aggregate\n",
    "\n",
    "7. Fine Aggregate"
   ]
  },
  {
   "cell_type": "markdown",
   "metadata": {},
   "source": [
    "\n",
    "## Load and Clean Dataset\n",
    "<br>\n",
    "<b>Import python required libraries."
   ]
  },
  {
   "cell_type": "code",
   "execution_count": 71,
   "metadata": {},
   "outputs": [],
   "source": [
    "import pandas as pd\n",
    "import numpy as np"
   ]
  },
  {
   "cell_type": "markdown",
   "metadata": {},
   "source": [
    "<b>Import Keras"
   ]
  },
  {
   "cell_type": "code",
   "execution_count": 72,
   "metadata": {},
   "outputs": [],
   "source": [
    "import keras\n",
    "\n",
    "from keras.models import Sequential\n",
    "from keras.layers import Dense"
   ]
  },
  {
   "cell_type": "markdown",
   "metadata": {},
   "source": [
    "<b>Import sklearn libs"
   ]
  },
  {
   "cell_type": "code",
   "execution_count": 73,
   "metadata": {},
   "outputs": [],
   "source": [
    "from sklearn.model_selection import train_test_split"
   ]
  },
  {
   "cell_type": "markdown",
   "metadata": {},
   "source": [
    "<b>Let's read the dataset into a pandas dataframe."
   ]
  },
  {
   "cell_type": "code",
   "execution_count": 74,
   "metadata": {},
   "outputs": [
    {
     "data": {
      "text/html": [
       "<div>\n",
       "<style scoped>\n",
       "    .dataframe tbody tr th:only-of-type {\n",
       "        vertical-align: middle;\n",
       "    }\n",
       "\n",
       "    .dataframe tbody tr th {\n",
       "        vertical-align: top;\n",
       "    }\n",
       "\n",
       "    .dataframe thead th {\n",
       "        text-align: right;\n",
       "    }\n",
       "</style>\n",
       "<table border=\"1\" class=\"dataframe\">\n",
       "  <thead>\n",
       "    <tr style=\"text-align: right;\">\n",
       "      <th></th>\n",
       "      <th>Cement</th>\n",
       "      <th>Blast Furnace Slag</th>\n",
       "      <th>Fly Ash</th>\n",
       "      <th>Water</th>\n",
       "      <th>Superplasticizer</th>\n",
       "      <th>Coarse Aggregate</th>\n",
       "      <th>Fine Aggregate</th>\n",
       "      <th>Age</th>\n",
       "      <th>Strength</th>\n",
       "    </tr>\n",
       "  </thead>\n",
       "  <tbody>\n",
       "    <tr>\n",
       "      <th>0</th>\n",
       "      <td>540.0</td>\n",
       "      <td>0.0</td>\n",
       "      <td>0.0</td>\n",
       "      <td>162.0</td>\n",
       "      <td>2.5</td>\n",
       "      <td>1040.0</td>\n",
       "      <td>676.0</td>\n",
       "      <td>28</td>\n",
       "      <td>79.99</td>\n",
       "    </tr>\n",
       "    <tr>\n",
       "      <th>1</th>\n",
       "      <td>540.0</td>\n",
       "      <td>0.0</td>\n",
       "      <td>0.0</td>\n",
       "      <td>162.0</td>\n",
       "      <td>2.5</td>\n",
       "      <td>1055.0</td>\n",
       "      <td>676.0</td>\n",
       "      <td>28</td>\n",
       "      <td>61.89</td>\n",
       "    </tr>\n",
       "    <tr>\n",
       "      <th>2</th>\n",
       "      <td>332.5</td>\n",
       "      <td>142.5</td>\n",
       "      <td>0.0</td>\n",
       "      <td>228.0</td>\n",
       "      <td>0.0</td>\n",
       "      <td>932.0</td>\n",
       "      <td>594.0</td>\n",
       "      <td>270</td>\n",
       "      <td>40.27</td>\n",
       "    </tr>\n",
       "    <tr>\n",
       "      <th>3</th>\n",
       "      <td>332.5</td>\n",
       "      <td>142.5</td>\n",
       "      <td>0.0</td>\n",
       "      <td>228.0</td>\n",
       "      <td>0.0</td>\n",
       "      <td>932.0</td>\n",
       "      <td>594.0</td>\n",
       "      <td>365</td>\n",
       "      <td>41.05</td>\n",
       "    </tr>\n",
       "    <tr>\n",
       "      <th>4</th>\n",
       "      <td>198.6</td>\n",
       "      <td>132.4</td>\n",
       "      <td>0.0</td>\n",
       "      <td>192.0</td>\n",
       "      <td>0.0</td>\n",
       "      <td>978.4</td>\n",
       "      <td>825.5</td>\n",
       "      <td>360</td>\n",
       "      <td>44.30</td>\n",
       "    </tr>\n",
       "  </tbody>\n",
       "</table>\n",
       "</div>"
      ],
      "text/plain": [
       "   Cement  Blast Furnace Slag  Fly Ash  Water  Superplasticizer  \\\n",
       "0   540.0                 0.0      0.0  162.0               2.5   \n",
       "1   540.0                 0.0      0.0  162.0               2.5   \n",
       "2   332.5               142.5      0.0  228.0               0.0   \n",
       "3   332.5               142.5      0.0  228.0               0.0   \n",
       "4   198.6               132.4      0.0  192.0               0.0   \n",
       "\n",
       "   Coarse Aggregate  Fine Aggregate  Age  Strength  \n",
       "0            1040.0           676.0   28     79.99  \n",
       "1            1055.0           676.0   28     61.89  \n",
       "2             932.0           594.0  270     40.27  \n",
       "3             932.0           594.0  365     41.05  \n",
       "4             978.4           825.5  360     44.30  "
      ]
     },
     "execution_count": 74,
     "metadata": {},
     "output_type": "execute_result"
    }
   ],
   "source": [
    "concrete_data = pd.read_csv('concrete_data.csv')\n",
    "concrete_data.head()"
   ]
  },
  {
   "cell_type": "markdown",
   "metadata": {},
   "source": [
    "The first concrete sample has 540 cubic meter of cement, 0 cubic meter of blast furnace slag, 0 cubic meter of fly ash, 162 cubic meter of water, 2.5 cubic meter of superplaticizer, 1040 cubic meter of coarse aggregate, 676 cubic meter of fine aggregate. Such a concrete mix which is 28 days old, has a compressive strength of 79.99 MPa\n",
    "\n",
    "<b>Check how many data pointsiin the dataset"
   ]
  },
  {
   "cell_type": "code",
   "execution_count": 75,
   "metadata": {},
   "outputs": [
    {
     "data": {
      "text/plain": [
       "(1030, 9)"
      ]
     },
     "execution_count": 75,
     "metadata": {},
     "output_type": "execute_result"
    }
   ],
   "source": [
    "concrete_data.shape"
   ]
  },
  {
   "cell_type": "markdown",
   "metadata": {},
   "source": [
    "Let's check missing values in the dataset"
   ]
  },
  {
   "cell_type": "code",
   "execution_count": 76,
   "metadata": {},
   "outputs": [
    {
     "data": {
      "text/plain": [
       "Cement                0\n",
       "Blast Furnace Slag    0\n",
       "Fly Ash               0\n",
       "Water                 0\n",
       "Superplasticizer      0\n",
       "Coarse Aggregate      0\n",
       "Fine Aggregate        0\n",
       "Age                   0\n",
       "Strength              0\n",
       "dtype: int64"
      ]
     },
     "execution_count": 76,
     "metadata": {},
     "output_type": "execute_result"
    }
   ],
   "source": [
    "concrete_data.isnull().sum()"
   ]
  },
  {
   "cell_type": "markdown",
   "metadata": {},
   "source": [
    "The data in the dataset looks clean and is ready to be used to build our model.\n",
    "\n",
    "<b>Summary of the dataset"
   ]
  },
  {
   "cell_type": "code",
   "execution_count": 77,
   "metadata": {},
   "outputs": [
    {
     "data": {
      "text/html": [
       "<div>\n",
       "<style scoped>\n",
       "    .dataframe tbody tr th:only-of-type {\n",
       "        vertical-align: middle;\n",
       "    }\n",
       "\n",
       "    .dataframe tbody tr th {\n",
       "        vertical-align: top;\n",
       "    }\n",
       "\n",
       "    .dataframe thead th {\n",
       "        text-align: right;\n",
       "    }\n",
       "</style>\n",
       "<table border=\"1\" class=\"dataframe\">\n",
       "  <thead>\n",
       "    <tr style=\"text-align: right;\">\n",
       "      <th></th>\n",
       "      <th>Cement</th>\n",
       "      <th>Blast Furnace Slag</th>\n",
       "      <th>Fly Ash</th>\n",
       "      <th>Water</th>\n",
       "      <th>Superplasticizer</th>\n",
       "      <th>Coarse Aggregate</th>\n",
       "      <th>Fine Aggregate</th>\n",
       "      <th>Age</th>\n",
       "      <th>Strength</th>\n",
       "    </tr>\n",
       "  </thead>\n",
       "  <tbody>\n",
       "    <tr>\n",
       "      <th>count</th>\n",
       "      <td>1030.000000</td>\n",
       "      <td>1030.000000</td>\n",
       "      <td>1030.000000</td>\n",
       "      <td>1030.000000</td>\n",
       "      <td>1030.000000</td>\n",
       "      <td>1030.000000</td>\n",
       "      <td>1030.000000</td>\n",
       "      <td>1030.000000</td>\n",
       "      <td>1030.000000</td>\n",
       "    </tr>\n",
       "    <tr>\n",
       "      <th>mean</th>\n",
       "      <td>281.167864</td>\n",
       "      <td>73.895825</td>\n",
       "      <td>54.188350</td>\n",
       "      <td>181.567282</td>\n",
       "      <td>6.204660</td>\n",
       "      <td>972.918932</td>\n",
       "      <td>773.580485</td>\n",
       "      <td>45.662136</td>\n",
       "      <td>35.817961</td>\n",
       "    </tr>\n",
       "    <tr>\n",
       "      <th>std</th>\n",
       "      <td>104.506364</td>\n",
       "      <td>86.279342</td>\n",
       "      <td>63.997004</td>\n",
       "      <td>21.354219</td>\n",
       "      <td>5.973841</td>\n",
       "      <td>77.753954</td>\n",
       "      <td>80.175980</td>\n",
       "      <td>63.169912</td>\n",
       "      <td>16.705742</td>\n",
       "    </tr>\n",
       "    <tr>\n",
       "      <th>min</th>\n",
       "      <td>102.000000</td>\n",
       "      <td>0.000000</td>\n",
       "      <td>0.000000</td>\n",
       "      <td>121.800000</td>\n",
       "      <td>0.000000</td>\n",
       "      <td>801.000000</td>\n",
       "      <td>594.000000</td>\n",
       "      <td>1.000000</td>\n",
       "      <td>2.330000</td>\n",
       "    </tr>\n",
       "    <tr>\n",
       "      <th>25%</th>\n",
       "      <td>192.375000</td>\n",
       "      <td>0.000000</td>\n",
       "      <td>0.000000</td>\n",
       "      <td>164.900000</td>\n",
       "      <td>0.000000</td>\n",
       "      <td>932.000000</td>\n",
       "      <td>730.950000</td>\n",
       "      <td>7.000000</td>\n",
       "      <td>23.710000</td>\n",
       "    </tr>\n",
       "    <tr>\n",
       "      <th>50%</th>\n",
       "      <td>272.900000</td>\n",
       "      <td>22.000000</td>\n",
       "      <td>0.000000</td>\n",
       "      <td>185.000000</td>\n",
       "      <td>6.400000</td>\n",
       "      <td>968.000000</td>\n",
       "      <td>779.500000</td>\n",
       "      <td>28.000000</td>\n",
       "      <td>34.445000</td>\n",
       "    </tr>\n",
       "    <tr>\n",
       "      <th>75%</th>\n",
       "      <td>350.000000</td>\n",
       "      <td>142.950000</td>\n",
       "      <td>118.300000</td>\n",
       "      <td>192.000000</td>\n",
       "      <td>10.200000</td>\n",
       "      <td>1029.400000</td>\n",
       "      <td>824.000000</td>\n",
       "      <td>56.000000</td>\n",
       "      <td>46.135000</td>\n",
       "    </tr>\n",
       "    <tr>\n",
       "      <th>max</th>\n",
       "      <td>540.000000</td>\n",
       "      <td>359.400000</td>\n",
       "      <td>200.100000</td>\n",
       "      <td>247.000000</td>\n",
       "      <td>32.200000</td>\n",
       "      <td>1145.000000</td>\n",
       "      <td>992.600000</td>\n",
       "      <td>365.000000</td>\n",
       "      <td>82.600000</td>\n",
       "    </tr>\n",
       "  </tbody>\n",
       "</table>\n",
       "</div>"
      ],
      "text/plain": [
       "            Cement  Blast Furnace Slag      Fly Ash        Water  \\\n",
       "count  1030.000000         1030.000000  1030.000000  1030.000000   \n",
       "mean    281.167864           73.895825    54.188350   181.567282   \n",
       "std     104.506364           86.279342    63.997004    21.354219   \n",
       "min     102.000000            0.000000     0.000000   121.800000   \n",
       "25%     192.375000            0.000000     0.000000   164.900000   \n",
       "50%     272.900000           22.000000     0.000000   185.000000   \n",
       "75%     350.000000          142.950000   118.300000   192.000000   \n",
       "max     540.000000          359.400000   200.100000   247.000000   \n",
       "\n",
       "       Superplasticizer  Coarse Aggregate  Fine Aggregate          Age  \\\n",
       "count       1030.000000       1030.000000     1030.000000  1030.000000   \n",
       "mean           6.204660        972.918932      773.580485    45.662136   \n",
       "std            5.973841         77.753954       80.175980    63.169912   \n",
       "min            0.000000        801.000000      594.000000     1.000000   \n",
       "25%            0.000000        932.000000      730.950000     7.000000   \n",
       "50%            6.400000        968.000000      779.500000    28.000000   \n",
       "75%           10.200000       1029.400000      824.000000    56.000000   \n",
       "max           32.200000       1145.000000      992.600000   365.000000   \n",
       "\n",
       "          Strength  \n",
       "count  1030.000000  \n",
       "mean     35.817961  \n",
       "std      16.705742  \n",
       "min       2.330000  \n",
       "25%      23.710000  \n",
       "50%      34.445000  \n",
       "75%      46.135000  \n",
       "max      82.600000  "
      ]
     },
     "execution_count": 77,
     "metadata": {},
     "output_type": "execute_result"
    }
   ],
   "source": [
    "concrete_data.describe()"
   ]
  },
  {
   "cell_type": "markdown",
   "metadata": {},
   "source": [
    "<b>Splitting data into predictors and target</b>\n",
    "    \n",
    "The target variable in this problem is the concrete sample strength. Therefore, our predictors will be all the other columns."
   ]
  },
  {
   "cell_type": "code",
   "execution_count": 78,
   "metadata": {},
   "outputs": [],
   "source": [
    "concrete_data_columns = concrete_data.columns\n",
    "predictors = concrete_data[concrete_data_columns[concrete_data_columns != 'Strength']] # all columns except Strength\n",
    "target = concrete_data['Strength'] # Strength column"
   ]
  },
  {
   "cell_type": "markdown",
   "metadata": {},
   "source": [
    "Let's do a quick check of the predictors and the target dataframes."
   ]
  },
  {
   "cell_type": "code",
   "execution_count": 79,
   "metadata": {},
   "outputs": [
    {
     "data": {
      "text/html": [
       "<div>\n",
       "<style scoped>\n",
       "    .dataframe tbody tr th:only-of-type {\n",
       "        vertical-align: middle;\n",
       "    }\n",
       "\n",
       "    .dataframe tbody tr th {\n",
       "        vertical-align: top;\n",
       "    }\n",
       "\n",
       "    .dataframe thead th {\n",
       "        text-align: right;\n",
       "    }\n",
       "</style>\n",
       "<table border=\"1\" class=\"dataframe\">\n",
       "  <thead>\n",
       "    <tr style=\"text-align: right;\">\n",
       "      <th></th>\n",
       "      <th>Cement</th>\n",
       "      <th>Blast Furnace Slag</th>\n",
       "      <th>Fly Ash</th>\n",
       "      <th>Water</th>\n",
       "      <th>Superplasticizer</th>\n",
       "      <th>Coarse Aggregate</th>\n",
       "      <th>Fine Aggregate</th>\n",
       "      <th>Age</th>\n",
       "    </tr>\n",
       "  </thead>\n",
       "  <tbody>\n",
       "    <tr>\n",
       "      <th>0</th>\n",
       "      <td>540.0</td>\n",
       "      <td>0.0</td>\n",
       "      <td>0.0</td>\n",
       "      <td>162.0</td>\n",
       "      <td>2.5</td>\n",
       "      <td>1040.0</td>\n",
       "      <td>676.0</td>\n",
       "      <td>28</td>\n",
       "    </tr>\n",
       "    <tr>\n",
       "      <th>1</th>\n",
       "      <td>540.0</td>\n",
       "      <td>0.0</td>\n",
       "      <td>0.0</td>\n",
       "      <td>162.0</td>\n",
       "      <td>2.5</td>\n",
       "      <td>1055.0</td>\n",
       "      <td>676.0</td>\n",
       "      <td>28</td>\n",
       "    </tr>\n",
       "    <tr>\n",
       "      <th>2</th>\n",
       "      <td>332.5</td>\n",
       "      <td>142.5</td>\n",
       "      <td>0.0</td>\n",
       "      <td>228.0</td>\n",
       "      <td>0.0</td>\n",
       "      <td>932.0</td>\n",
       "      <td>594.0</td>\n",
       "      <td>270</td>\n",
       "    </tr>\n",
       "    <tr>\n",
       "      <th>3</th>\n",
       "      <td>332.5</td>\n",
       "      <td>142.5</td>\n",
       "      <td>0.0</td>\n",
       "      <td>228.0</td>\n",
       "      <td>0.0</td>\n",
       "      <td>932.0</td>\n",
       "      <td>594.0</td>\n",
       "      <td>365</td>\n",
       "    </tr>\n",
       "    <tr>\n",
       "      <th>4</th>\n",
       "      <td>198.6</td>\n",
       "      <td>132.4</td>\n",
       "      <td>0.0</td>\n",
       "      <td>192.0</td>\n",
       "      <td>0.0</td>\n",
       "      <td>978.4</td>\n",
       "      <td>825.5</td>\n",
       "      <td>360</td>\n",
       "    </tr>\n",
       "  </tbody>\n",
       "</table>\n",
       "</div>"
      ],
      "text/plain": [
       "   Cement  Blast Furnace Slag  Fly Ash  Water  Superplasticizer  \\\n",
       "0   540.0                 0.0      0.0  162.0               2.5   \n",
       "1   540.0                 0.0      0.0  162.0               2.5   \n",
       "2   332.5               142.5      0.0  228.0               0.0   \n",
       "3   332.5               142.5      0.0  228.0               0.0   \n",
       "4   198.6               132.4      0.0  192.0               0.0   \n",
       "\n",
       "   Coarse Aggregate  Fine Aggregate  Age  \n",
       "0            1040.0           676.0   28  \n",
       "1            1055.0           676.0   28  \n",
       "2             932.0           594.0  270  \n",
       "3             932.0           594.0  365  \n",
       "4             978.4           825.5  360  "
      ]
     },
     "execution_count": 79,
     "metadata": {},
     "output_type": "execute_result"
    }
   ],
   "source": [
    "predictors.head()"
   ]
  },
  {
   "cell_type": "code",
   "execution_count": 80,
   "metadata": {},
   "outputs": [
    {
     "data": {
      "text/plain": [
       "0    79.99\n",
       "1    61.89\n",
       "2    40.27\n",
       "3    41.05\n",
       "4    44.30\n",
       "Name: Strength, dtype: float64"
      ]
     },
     "execution_count": 80,
     "metadata": {},
     "output_type": "execute_result"
    }
   ],
   "source": [
    "target.head()"
   ]
  },
  {
   "cell_type": "markdown",
   "metadata": {},
   "source": [
    "## Normalize the data "
   ]
  },
  {
   "cell_type": "code",
   "execution_count": 81,
   "metadata": {},
   "outputs": [
    {
     "data": {
      "text/html": [
       "<div>\n",
       "<style scoped>\n",
       "    .dataframe tbody tr th:only-of-type {\n",
       "        vertical-align: middle;\n",
       "    }\n",
       "\n",
       "    .dataframe tbody tr th {\n",
       "        vertical-align: top;\n",
       "    }\n",
       "\n",
       "    .dataframe thead th {\n",
       "        text-align: right;\n",
       "    }\n",
       "</style>\n",
       "<table border=\"1\" class=\"dataframe\">\n",
       "  <thead>\n",
       "    <tr style=\"text-align: right;\">\n",
       "      <th></th>\n",
       "      <th>Cement</th>\n",
       "      <th>Blast Furnace Slag</th>\n",
       "      <th>Fly Ash</th>\n",
       "      <th>Water</th>\n",
       "      <th>Superplasticizer</th>\n",
       "      <th>Coarse Aggregate</th>\n",
       "      <th>Fine Aggregate</th>\n",
       "      <th>Age</th>\n",
       "    </tr>\n",
       "  </thead>\n",
       "  <tbody>\n",
       "    <tr>\n",
       "      <th>0</th>\n",
       "      <td>2.476712</td>\n",
       "      <td>-0.856472</td>\n",
       "      <td>-0.846733</td>\n",
       "      <td>-0.916319</td>\n",
       "      <td>-0.620147</td>\n",
       "      <td>0.862735</td>\n",
       "      <td>-1.217079</td>\n",
       "      <td>-0.279597</td>\n",
       "    </tr>\n",
       "    <tr>\n",
       "      <th>1</th>\n",
       "      <td>2.476712</td>\n",
       "      <td>-0.856472</td>\n",
       "      <td>-0.846733</td>\n",
       "      <td>-0.916319</td>\n",
       "      <td>-0.620147</td>\n",
       "      <td>1.055651</td>\n",
       "      <td>-1.217079</td>\n",
       "      <td>-0.279597</td>\n",
       "    </tr>\n",
       "    <tr>\n",
       "      <th>2</th>\n",
       "      <td>0.491187</td>\n",
       "      <td>0.795140</td>\n",
       "      <td>-0.846733</td>\n",
       "      <td>2.174405</td>\n",
       "      <td>-1.038638</td>\n",
       "      <td>-0.526262</td>\n",
       "      <td>-2.239829</td>\n",
       "      <td>3.551340</td>\n",
       "    </tr>\n",
       "    <tr>\n",
       "      <th>3</th>\n",
       "      <td>0.491187</td>\n",
       "      <td>0.795140</td>\n",
       "      <td>-0.846733</td>\n",
       "      <td>2.174405</td>\n",
       "      <td>-1.038638</td>\n",
       "      <td>-0.526262</td>\n",
       "      <td>-2.239829</td>\n",
       "      <td>5.055221</td>\n",
       "    </tr>\n",
       "    <tr>\n",
       "      <th>4</th>\n",
       "      <td>-0.790075</td>\n",
       "      <td>0.678079</td>\n",
       "      <td>-0.846733</td>\n",
       "      <td>0.488555</td>\n",
       "      <td>-1.038638</td>\n",
       "      <td>0.070492</td>\n",
       "      <td>0.647569</td>\n",
       "      <td>4.976069</td>\n",
       "    </tr>\n",
       "  </tbody>\n",
       "</table>\n",
       "</div>"
      ],
      "text/plain": [
       "     Cement  Blast Furnace Slag   Fly Ash     Water  Superplasticizer  \\\n",
       "0  2.476712           -0.856472 -0.846733 -0.916319         -0.620147   \n",
       "1  2.476712           -0.856472 -0.846733 -0.916319         -0.620147   \n",
       "2  0.491187            0.795140 -0.846733  2.174405         -1.038638   \n",
       "3  0.491187            0.795140 -0.846733  2.174405         -1.038638   \n",
       "4 -0.790075            0.678079 -0.846733  0.488555         -1.038638   \n",
       "\n",
       "   Coarse Aggregate  Fine Aggregate       Age  \n",
       "0          0.862735       -1.217079 -0.279597  \n",
       "1          1.055651       -1.217079 -0.279597  \n",
       "2         -0.526262       -2.239829  3.551340  \n",
       "3         -0.526262       -2.239829  5.055221  \n",
       "4          0.070492        0.647569  4.976069  "
      ]
     },
     "execution_count": 81,
     "metadata": {},
     "output_type": "execute_result"
    }
   ],
   "source": [
    "#Normalize the data by substracting the mean and dividing by the standard deviation\n",
    "predictors_norm = (predictors - predictors.mean()) / predictors.std()\n",
    "predictors_norm.head()"
   ]
  },
  {
   "cell_type": "code",
   "execution_count": 82,
   "metadata": {},
   "outputs": [
    {
     "data": {
      "text/plain": [
       "8"
      ]
     },
     "execution_count": 82,
     "metadata": {},
     "output_type": "execute_result"
    }
   ],
   "source": [
    "n_cols = predictors_norm.shape[1] # number of predictors\n",
    "n_cols"
   ]
  },
  {
   "cell_type": "markdown",
   "metadata": {},
   "source": [
    "<b>Building a our regressoin model.</b>\n",
    "<br>It has one hidden layer with 10 neurons and a ReLU activation function. It uses the adam optimizer and the mean squared error as the loss function."
   ]
  },
  {
   "cell_type": "code",
   "execution_count": 83,
   "metadata": {},
   "outputs": [],
   "source": [
    "# define regression model\n",
    "def regression_model():\n",
    "    # create model\n",
    "    model = Sequential()\n",
    "    model.add(Dense(10, activation='relu', input_shape=(n_cols,)))\n",
    "    model.add(Dense(1))\n",
    "    \n",
    "    # compile model\n",
    "    model.compile(optimizer='adam', loss='mean_squared_error')\n",
    "    return model"
   ]
  },
  {
   "cell_type": "markdown",
   "metadata": {},
   "source": [
    "<b>Splitting the data into a training and test sets by holding 30% of the data for testing</b>"
   ]
  },
  {
   "cell_type": "code",
   "execution_count": 84,
   "metadata": {},
   "outputs": [],
   "source": [
    "predictors_train, predictors_test, target_train, target_test = train_test_split(predictors_norm, target, test_size=0.3, random_state=42)"
   ]
  },
  {
   "cell_type": "markdown",
   "metadata": {},
   "source": [
    "Let's call the function now to create our model."
   ]
  },
  {
   "cell_type": "code",
   "execution_count": 85,
   "metadata": {},
   "outputs": [],
   "source": [
    "# build the model\n",
    "model = regression_model()"
   ]
  },
  {
   "cell_type": "markdown",
   "metadata": {},
   "source": [
    "Next, we will train the model for 50 epochs."
   ]
  },
  {
   "cell_type": "code",
   "execution_count": 86,
   "metadata": {},
   "outputs": [
    {
     "name": "stdout",
     "output_type": "stream",
     "text": [
      "Epoch 1/100\n",
      "721/721 [==============================] - 0s 109us/step - loss: 1569.5426\n",
      "Epoch 2/100\n",
      "721/721 [==============================] - 0s 46us/step - loss: 1550.5615\n",
      "Epoch 3/100\n",
      "721/721 [==============================] - 0s 58us/step - loss: 1531.5376\n",
      "Epoch 4/100\n",
      "721/721 [==============================] - 0s 48us/step - loss: 1512.1662\n",
      "Epoch 5/100\n",
      "721/721 [==============================] - 0s 55us/step - loss: 1492.8943\n",
      "Epoch 6/100\n",
      "721/721 [==============================] - 0s 48us/step - loss: 1473.0702\n",
      "Epoch 7/100\n",
      "721/721 [==============================] - 0s 57us/step - loss: 1452.6290\n",
      "Epoch 8/100\n",
      "721/721 [==============================] - 0s 48us/step - loss: 1431.6439\n",
      "Epoch 9/100\n",
      "721/721 [==============================] - 0s 51us/step - loss: 1410.0941\n",
      "Epoch 10/100\n",
      "721/721 [==============================] - 0s 46us/step - loss: 1387.5639\n",
      "Epoch 11/100\n",
      "721/721 [==============================] - 0s 46us/step - loss: 1363.9255\n",
      "Epoch 12/100\n",
      "721/721 [==============================] - 0s 37us/step - loss: 1339.5524\n",
      "Epoch 13/100\n",
      "721/721 [==============================] - 0s 44us/step - loss: 1313.8546\n",
      "Epoch 14/100\n",
      "721/721 [==============================] - 0s 44us/step - loss: 1287.2067\n",
      "Epoch 15/100\n",
      "721/721 [==============================] - 0s 33us/step - loss: 1259.5881\n",
      "Epoch 16/100\n",
      "721/721 [==============================] - 0s 36us/step - loss: 1229.8006\n",
      "Epoch 17/100\n",
      "721/721 [==============================] - 0s 57us/step - loss: 1200.0971\n",
      "Epoch 18/100\n",
      "721/721 [==============================] - 0s 53us/step - loss: 1168.8308\n",
      "Epoch 19/100\n",
      "721/721 [==============================] - 0s 36us/step - loss: 1136.0248\n",
      "Epoch 20/100\n",
      "721/721 [==============================] - 0s 47us/step - loss: 1103.4931\n",
      "Epoch 21/100\n",
      "721/721 [==============================] - 0s 46us/step - loss: 1069.8912\n",
      "Epoch 22/100\n",
      "721/721 [==============================] - 0s 39us/step - loss: 1035.4299\n",
      "Epoch 23/100\n",
      "721/721 [==============================] - 0s 51us/step - loss: 1001.5181\n",
      "Epoch 24/100\n",
      "721/721 [==============================] - 0s 51us/step - loss: 966.8401\n",
      "Epoch 25/100\n",
      "721/721 [==============================] - 0s 37us/step - loss: 932.4422\n",
      "Epoch 26/100\n",
      "721/721 [==============================] - 0s 47us/step - loss: 897.6246\n",
      "Epoch 27/100\n",
      "721/721 [==============================] - 0s 46us/step - loss: 863.7758\n",
      "Epoch 28/100\n",
      "721/721 [==============================] - 0s 46us/step - loss: 830.6224\n",
      "Epoch 29/100\n",
      "721/721 [==============================] - 0s 39us/step - loss: 796.6790\n",
      "Epoch 30/100\n",
      "721/721 [==============================] - 0s 37us/step - loss: 764.1991\n",
      "Epoch 31/100\n",
      "721/721 [==============================] - 0s 44us/step - loss: 732.2512\n",
      "Epoch 32/100\n",
      "721/721 [==============================] - 0s 44us/step - loss: 701.1759\n",
      "Epoch 33/100\n",
      "721/721 [==============================] - 0s 41us/step - loss: 671.1201\n",
      "Epoch 34/100\n",
      "721/721 [==============================] - 0s 40us/step - loss: 641.6478\n",
      "Epoch 35/100\n",
      "721/721 [==============================] - 0s 43us/step - loss: 613.7278\n",
      "Epoch 36/100\n",
      "721/721 [==============================] - 0s 44us/step - loss: 586.8049\n",
      "Epoch 37/100\n",
      "721/721 [==============================] - 0s 43us/step - loss: 561.3095\n",
      "Epoch 38/100\n",
      "721/721 [==============================] - 0s 36us/step - loss: 536.8787\n",
      "Epoch 39/100\n",
      "721/721 [==============================] - 0s 40us/step - loss: 513.8644\n",
      "Epoch 40/100\n",
      "721/721 [==============================] - 0s 41us/step - loss: 492.0763\n",
      "Epoch 41/100\n",
      "721/721 [==============================] - 0s 51us/step - loss: 471.3993\n",
      "Epoch 42/100\n",
      "721/721 [==============================] - 0s 44us/step - loss: 452.1026\n",
      "Epoch 43/100\n",
      "721/721 [==============================] - 0s 39us/step - loss: 433.5917\n",
      "Epoch 44/100\n",
      "721/721 [==============================] - 0s 43us/step - loss: 416.7389\n",
      "Epoch 45/100\n",
      "721/721 [==============================] - 0s 39us/step - loss: 400.9557\n",
      "Epoch 46/100\n",
      "721/721 [==============================] - 0s 37us/step - loss: 385.7703\n",
      "Epoch 47/100\n",
      "721/721 [==============================] - 0s 47us/step - loss: 371.9874\n",
      "Epoch 48/100\n",
      "721/721 [==============================] - 0s 47us/step - loss: 358.9444\n",
      "Epoch 49/100\n",
      "721/721 [==============================] - 0s 41us/step - loss: 346.8240\n",
      "Epoch 50/100\n",
      "721/721 [==============================] - 0s 41us/step - loss: 335.3627\n",
      "Epoch 51/100\n",
      "721/721 [==============================] - 0s 40us/step - loss: 324.9153\n",
      "Epoch 52/100\n",
      "721/721 [==============================] - 0s 33us/step - loss: 314.9147\n",
      "Epoch 53/100\n",
      "721/721 [==============================] - 0s 46us/step - loss: 305.7041\n",
      "Epoch 54/100\n",
      "721/721 [==============================] - 0s 37us/step - loss: 297.2261\n",
      "Epoch 55/100\n",
      "721/721 [==============================] - 0s 39us/step - loss: 289.3243\n",
      "Epoch 56/100\n",
      "721/721 [==============================] - 0s 46us/step - loss: 281.8272\n",
      "Epoch 57/100\n",
      "721/721 [==============================] - 0s 46us/step - loss: 274.8345\n",
      "Epoch 58/100\n",
      "721/721 [==============================] - 0s 46us/step - loss: 268.2583\n",
      "Epoch 59/100\n",
      "721/721 [==============================] - 0s 41us/step - loss: 262.3790\n",
      "Epoch 60/100\n",
      "721/721 [==============================] - 0s 37us/step - loss: 256.4125\n",
      "Epoch 61/100\n",
      "721/721 [==============================] - 0s 39us/step - loss: 251.0016\n",
      "Epoch 62/100\n",
      "721/721 [==============================] - 0s 39us/step - loss: 245.7840\n",
      "Epoch 63/100\n",
      "721/721 [==============================] - 0s 33us/step - loss: 241.0723\n",
      "Epoch 64/100\n",
      "721/721 [==============================] - 0s 32us/step - loss: 236.5631\n",
      "Epoch 65/100\n",
      "721/721 [==============================] - 0s 47us/step - loss: 232.1195\n",
      "Epoch 66/100\n",
      "721/721 [==============================] - 0s 36us/step - loss: 228.1855\n",
      "Epoch 67/100\n",
      "721/721 [==============================] - 0s 30us/step - loss: 224.2745\n",
      "Epoch 68/100\n",
      "721/721 [==============================] - 0s 40us/step - loss: 220.6724\n",
      "Epoch 69/100\n",
      "721/721 [==============================] - 0s 48us/step - loss: 217.1754\n",
      "Epoch 70/100\n",
      "721/721 [==============================] - 0s 37us/step - loss: 213.7683\n",
      "Epoch 71/100\n",
      "721/721 [==============================] - 0s 33us/step - loss: 210.7438\n",
      "Epoch 72/100\n",
      "721/721 [==============================] - 0s 37us/step - loss: 207.6904\n",
      "Epoch 73/100\n",
      "721/721 [==============================] - 0s 35us/step - loss: 204.9140\n",
      "Epoch 74/100\n",
      "721/721 [==============================] - 0s 35us/step - loss: 202.2037\n",
      "Epoch 75/100\n",
      "721/721 [==============================] - 0s 36us/step - loss: 199.7992\n",
      "Epoch 76/100\n",
      "721/721 [==============================] - 0s 33us/step - loss: 197.2224\n",
      "Epoch 77/100\n",
      "721/721 [==============================] - 0s 37us/step - loss: 194.8507\n",
      "Epoch 78/100\n",
      "721/721 [==============================] - 0s 37us/step - loss: 192.6510\n",
      "Epoch 79/100\n",
      "721/721 [==============================] - 0s 39us/step - loss: 190.5116\n",
      "Epoch 80/100\n",
      "721/721 [==============================] - 0s 39us/step - loss: 188.3577\n",
      "Epoch 81/100\n",
      "721/721 [==============================] - 0s 39us/step - loss: 186.3541\n",
      "Epoch 82/100\n",
      "721/721 [==============================] - 0s 48us/step - loss: 184.5293\n",
      "Epoch 83/100\n",
      "721/721 [==============================] - 0s 37us/step - loss: 182.5411\n",
      "Epoch 84/100\n",
      "721/721 [==============================] - 0s 37us/step - loss: 180.7411\n",
      "Epoch 85/100\n",
      "721/721 [==============================] - 0s 40us/step - loss: 179.1017\n",
      "Epoch 86/100\n",
      "721/721 [==============================] - 0s 33us/step - loss: 177.4148\n",
      "Epoch 87/100\n",
      "721/721 [==============================] - 0s 36us/step - loss: 175.7960\n",
      "Epoch 88/100\n",
      "721/721 [==============================] - 0s 32us/step - loss: 174.2809\n",
      "Epoch 89/100\n",
      "721/721 [==============================] - 0s 44us/step - loss: 172.7827\n",
      "Epoch 90/100\n",
      "721/721 [==============================] - 0s 42us/step - loss: 171.3836\n",
      "Epoch 91/100\n",
      "721/721 [==============================] - 0s 37us/step - loss: 169.9961\n",
      "Epoch 92/100\n",
      "721/721 [==============================] - 0s 32us/step - loss: 168.6602\n",
      "Epoch 93/100\n",
      "721/721 [==============================] - 0s 40us/step - loss: 167.3850\n",
      "Epoch 94/100\n",
      "721/721 [==============================] - 0s 37us/step - loss: 166.1515\n",
      "Epoch 95/100\n",
      "721/721 [==============================] - 0s 39us/step - loss: 164.9070\n",
      "Epoch 96/100\n",
      "721/721 [==============================] - 0s 36us/step - loss: 163.8200\n",
      "Epoch 97/100\n",
      "721/721 [==============================] - 0s 32us/step - loss: 162.6444\n",
      "Epoch 98/100\n",
      "721/721 [==============================] - 0s 37us/step - loss: 161.5746\n",
      "Epoch 99/100\n",
      "721/721 [==============================] - 0s 39us/step - loss: 160.5211\n",
      "Epoch 100/100\n",
      "721/721 [==============================] - 0s 35us/step - loss: 159.5187\n"
     ]
    },
    {
     "data": {
      "text/plain": [
       "<keras.callbacks.callbacks.History at 0x289ca7c77f0>"
      ]
     },
     "execution_count": 86,
     "metadata": {},
     "output_type": "execute_result"
    }
   ],
   "source": [
    "# fit the model\n",
    "epochs = 100\n",
    "model.fit(predictors_train, target_train, epochs=epochs, verbose=1)"
   ]
  },
  {
   "cell_type": "markdown",
   "metadata": {},
   "source": [
    "Next we need to evaluate the model on the test data"
   ]
  },
  {
   "cell_type": "code",
   "execution_count": 87,
   "metadata": {},
   "outputs": [
    {
     "name": "stdout",
     "output_type": "stream",
     "text": [
      "309/309 [==============================] - 0s 45us/step\n",
      "Loss value from test data : 153.32810816101272\n"
     ]
    }
   ],
   "source": [
    "loss_val = model.evaluate(predictors_test, target_test)\n",
    "target_pred = model.predict(predictors_test)\n",
    "print(\"Loss value from test data : {}\".format(loss_val))"
   ]
  },
  {
   "cell_type": "markdown",
   "metadata": {},
   "source": [
    "Next, we need to compute the mean squared error between the predicted concrete strength and the actual concrete strength.\n",
    "\n",
    "Let's import the mean_squared_error function from Scikit-learn."
   ]
  },
  {
   "cell_type": "code",
   "execution_count": 88,
   "metadata": {},
   "outputs": [],
   "source": [
    "from sklearn.metrics import mean_squared_error"
   ]
  },
  {
   "cell_type": "code",
   "execution_count": 89,
   "metadata": {},
   "outputs": [
    {
     "name": "stdout",
     "output_type": "stream",
     "text": [
      "Mean : 153.3281121907033, Standard Deviation : 0.0\n"
     ]
    }
   ],
   "source": [
    "mse = mean_squared_error(target_test, target_pred)\n",
    "mean = np.mean(mse)\n",
    "std = np.std(mse)\n",
    "print(\"Mean : {}, Standard Deviation : {}\".format(mean, std))"
   ]
  },
  {
   "cell_type": "markdown",
   "metadata": {},
   "source": [
    "Ceate a list of 50 mean squared errors and report mean and the standard deviation of the mean squared errors."
   ]
  },
  {
   "cell_type": "code",
   "execution_count": 90,
   "metadata": {},
   "outputs": [
    {
     "name": "stdout",
     "output_type": "stream",
     "text": [
      "1. Mean squared error 100.4554979515693 \n",
      "2. Mean squared error 87.22405220698384 \n",
      "3. Mean squared error 58.71979922692753 \n",
      "4. Mean squared error 55.85762780692585 \n",
      "5. Mean squared error 52.14265061659334 \n",
      "6. Mean squared error 53.08115111662732 \n",
      "7. Mean squared error 53.77659606933594 \n",
      "8. Mean squared error 37.864895854567244 \n",
      "9. Mean squared error 42.18528288313486 \n",
      "10. Mean squared error 41.91870140643567 \n",
      "11. Mean squared error 40.05650178977201 \n",
      "12. Mean squared error 36.950105327618544 \n",
      "13. Mean squared error 42.72513770439864 \n",
      "14. Mean squared error 46.36302796150874 \n",
      "15. Mean squared error 38.85120532582107 \n",
      "16. Mean squared error 33.23610239738785 \n",
      "17. Mean squared error 40.18738254682918 \n",
      "18. Mean squared error 37.22529705134024 \n",
      "19. Mean squared error 37.54354211504791 \n",
      "20. Mean squared error 39.39298466802801 \n",
      "21. Mean squared error 34.04186973448324 \n",
      "22. Mean squared error 36.31869930896944 \n",
      "23. Mean squared error 31.377133563884254 \n",
      "24. Mean squared error 34.743721699637504 \n",
      "25. Mean squared error 36.69147065542277 \n",
      "26. Mean squared error 38.89790383743237 \n",
      "27. Mean squared error 32.66797419427668 \n",
      "28. Mean squared error 32.036568731166014 \n",
      "29. Mean squared error 42.25137996982217 \n",
      "30. Mean squared error 37.428964176610066 \n",
      "31. Mean squared error 35.49344749821042 \n",
      "32. Mean squared error 33.065848884459065 \n",
      "33. Mean squared error 33.250926786256066 \n",
      "34. Mean squared error 38.011702985053695 \n",
      "35. Mean squared error 37.62498197586405 \n",
      "36. Mean squared error 41.68246507490337 \n",
      "37. Mean squared error 30.621798243723255 \n",
      "38. Mean squared error 38.50582665995873 \n",
      "39. Mean squared error 34.452646360428204 \n",
      "40. Mean squared error 28.86571289111881 \n",
      "41. Mean squared error 38.675664346194964 \n",
      "42. Mean squared error 29.47270243993469 \n",
      "43. Mean squared error 33.753079176720675 \n",
      "44. Mean squared error 37.29948556153134 \n",
      "45. Mean squared error 36.5768858406536 \n",
      "46. Mean squared error 37.842348981443735 \n",
      "47. Mean squared error 32.702692038033 \n",
      "48. Mean squared error 36.66247667232378 \n",
      "49. Mean squared error 32.13968513390007 \n",
      "50. Mean squared error 36.06979368882658 \n",
      "\n",
      "*************************************************\n",
      "\n",
      "Mean and Standard deviation of 50 mean squared errors with normalized data. Total number of epochs for each training is : 100 \n",
      "\n",
      " *************************************************\n",
      "\n",
      "Mean : 40.699667688539584 and Standard Deviation : 12.714106960899873 \n",
      "\n",
      "=================================================\n",
      "\n"
     ]
    }
   ],
   "source": [
    "no_of_mses = 50\n",
    "epochs = 100\n",
    "mse_list = []\n",
    "for i in range(0, no_of_mses):\n",
    "    predictors_train, predictors_test, target_train, target_test = train_test_split(predictors_norm, target, test_size=0.3, random_state=i)\n",
    "    model.fit(predictors_train, target_train, epochs=epochs, verbose=0)\n",
    "    loss_val = model.evaluate(predictors_test, target_test, verbose=0)\n",
    "    print(\"{}. Mean squared error {} \".format(i+1, loss_val))\n",
    "    target_pred = model.predict(predictors_test)\n",
    "    mse = mean_squared_error(target_test, target_pred)\n",
    "    mse_list.append(mse)\n",
    "\n",
    "mse_array = np.array(mse_list)\n",
    "mean = np.mean(mse_array)\n",
    "std = np.std(mse_array)\n",
    "\n",
    "print('\\n*************************************************\\n')\n",
    "print(\"Mean and Standard deviation of {} mean squared errors with normalized data. Total number of epochs for each training is : {} \".format(no_of_mses, epochs))\n",
    "print('\\n *************************************************\\n')\n",
    "print(\"Mean : {} and Standard Deviation : {} \".format(mean,std))\n",
    "print('\\n=================================================\\n')\n"
   ]
  }
 ],
 "metadata": {
  "kernelspec": {
   "display_name": "Python 3",
   "language": "python",
   "name": "python3"
  },
  "language_info": {
   "codemirror_mode": {
    "name": "ipython",
    "version": 3
   },
   "file_extension": ".py",
   "mimetype": "text/x-python",
   "name": "python",
   "nbconvert_exporter": "python",
   "pygments_lexer": "ipython3",
   "version": "3.6.5"
  }
 },
 "nbformat": 4,
 "nbformat_minor": 2
}
