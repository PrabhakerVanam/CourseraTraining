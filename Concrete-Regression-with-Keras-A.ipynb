{
 "cells": [
  {
   "cell_type": "markdown",
   "metadata": {},
   "source": [
    "\n",
    "<div>\n",
    "    &nbsp;\n",
    "    <br>\n",
    "</div>\n",
    "\n",
    "\n",
    "# Regression in Keras\n",
    "We will be using the dataset provided in the assignment\n",
    "\n",
    "The dataset is about the compressive strength of different samples of concrete based on the volumes of the different ingredients that were used to make them. Ingredients include:\n",
    "\n",
    "1. Cement\n",
    "\n",
    "2. Blast Furnace Slag\n",
    "\n",
    "3. Fly Ash\n",
    "\n",
    "4. Water\n",
    "\n",
    "5. Superplasticizer\n",
    "\n",
    "6. Coarse Aggregate\n",
    "\n",
    "7. Fine Aggregate"
   ]
  },
  {
   "cell_type": "markdown",
   "metadata": {},
   "source": [
    "\n",
    "## Load and Clean Dataset\n",
    "<br>\n",
    "<b>Import python required libraries."
   ]
  },
  {
   "cell_type": "code",
   "execution_count": 29,
   "metadata": {},
   "outputs": [],
   "source": [
    "import pandas as pd\n",
    "import numpy as np"
   ]
  },
  {
   "cell_type": "markdown",
   "metadata": {},
   "source": [
    "<b>Import Keras"
   ]
  },
  {
   "cell_type": "code",
   "execution_count": 30,
   "metadata": {},
   "outputs": [],
   "source": [
    "import keras\n",
    "\n",
    "from keras.models import Sequential\n",
    "from keras.layers import Dense"
   ]
  },
  {
   "cell_type": "markdown",
   "metadata": {},
   "source": [
    "<b>Import sklearn libs"
   ]
  },
  {
   "cell_type": "code",
   "execution_count": 31,
   "metadata": {},
   "outputs": [],
   "source": [
    "from sklearn.model_selection import train_test_split"
   ]
  },
  {
   "cell_type": "markdown",
   "metadata": {},
   "source": [
    "<b>Let's read the dataset into a pandas dataframe."
   ]
  },
  {
   "cell_type": "code",
   "execution_count": 32,
   "metadata": {},
   "outputs": [
    {
     "data": {
      "text/html": [
       "<div>\n",
       "<style scoped>\n",
       "    .dataframe tbody tr th:only-of-type {\n",
       "        vertical-align: middle;\n",
       "    }\n",
       "\n",
       "    .dataframe tbody tr th {\n",
       "        vertical-align: top;\n",
       "    }\n",
       "\n",
       "    .dataframe thead th {\n",
       "        text-align: right;\n",
       "    }\n",
       "</style>\n",
       "<table border=\"1\" class=\"dataframe\">\n",
       "  <thead>\n",
       "    <tr style=\"text-align: right;\">\n",
       "      <th></th>\n",
       "      <th>Cement</th>\n",
       "      <th>Blast Furnace Slag</th>\n",
       "      <th>Fly Ash</th>\n",
       "      <th>Water</th>\n",
       "      <th>Superplasticizer</th>\n",
       "      <th>Coarse Aggregate</th>\n",
       "      <th>Fine Aggregate</th>\n",
       "      <th>Age</th>\n",
       "      <th>Strength</th>\n",
       "    </tr>\n",
       "  </thead>\n",
       "  <tbody>\n",
       "    <tr>\n",
       "      <th>0</th>\n",
       "      <td>540.0</td>\n",
       "      <td>0.0</td>\n",
       "      <td>0.0</td>\n",
       "      <td>162.0</td>\n",
       "      <td>2.5</td>\n",
       "      <td>1040.0</td>\n",
       "      <td>676.0</td>\n",
       "      <td>28</td>\n",
       "      <td>79.99</td>\n",
       "    </tr>\n",
       "    <tr>\n",
       "      <th>1</th>\n",
       "      <td>540.0</td>\n",
       "      <td>0.0</td>\n",
       "      <td>0.0</td>\n",
       "      <td>162.0</td>\n",
       "      <td>2.5</td>\n",
       "      <td>1055.0</td>\n",
       "      <td>676.0</td>\n",
       "      <td>28</td>\n",
       "      <td>61.89</td>\n",
       "    </tr>\n",
       "    <tr>\n",
       "      <th>2</th>\n",
       "      <td>332.5</td>\n",
       "      <td>142.5</td>\n",
       "      <td>0.0</td>\n",
       "      <td>228.0</td>\n",
       "      <td>0.0</td>\n",
       "      <td>932.0</td>\n",
       "      <td>594.0</td>\n",
       "      <td>270</td>\n",
       "      <td>40.27</td>\n",
       "    </tr>\n",
       "    <tr>\n",
       "      <th>3</th>\n",
       "      <td>332.5</td>\n",
       "      <td>142.5</td>\n",
       "      <td>0.0</td>\n",
       "      <td>228.0</td>\n",
       "      <td>0.0</td>\n",
       "      <td>932.0</td>\n",
       "      <td>594.0</td>\n",
       "      <td>365</td>\n",
       "      <td>41.05</td>\n",
       "    </tr>\n",
       "    <tr>\n",
       "      <th>4</th>\n",
       "      <td>198.6</td>\n",
       "      <td>132.4</td>\n",
       "      <td>0.0</td>\n",
       "      <td>192.0</td>\n",
       "      <td>0.0</td>\n",
       "      <td>978.4</td>\n",
       "      <td>825.5</td>\n",
       "      <td>360</td>\n",
       "      <td>44.30</td>\n",
       "    </tr>\n",
       "  </tbody>\n",
       "</table>\n",
       "</div>"
      ],
      "text/plain": [
       "   Cement  Blast Furnace Slag  Fly Ash  Water  Superplasticizer  \\\n",
       "0   540.0                 0.0      0.0  162.0               2.5   \n",
       "1   540.0                 0.0      0.0  162.0               2.5   \n",
       "2   332.5               142.5      0.0  228.0               0.0   \n",
       "3   332.5               142.5      0.0  228.0               0.0   \n",
       "4   198.6               132.4      0.0  192.0               0.0   \n",
       "\n",
       "   Coarse Aggregate  Fine Aggregate  Age  Strength  \n",
       "0            1040.0           676.0   28     79.99  \n",
       "1            1055.0           676.0   28     61.89  \n",
       "2             932.0           594.0  270     40.27  \n",
       "3             932.0           594.0  365     41.05  \n",
       "4             978.4           825.5  360     44.30  "
      ]
     },
     "execution_count": 32,
     "metadata": {},
     "output_type": "execute_result"
    }
   ],
   "source": [
    "concrete_data = pd.read_csv('concrete_data.csv')\n",
    "concrete_data.head()"
   ]
  },
  {
   "cell_type": "markdown",
   "metadata": {},
   "source": [
    "The first concrete sample has 540 cubic meter of cement, 0 cubic meter of blast furnace slag, 0 cubic meter of fly ash, 162 cubic meter of water, 2.5 cubic meter of superplaticizer, 1040 cubic meter of coarse aggregate, 676 cubic meter of fine aggregate. Such a concrete mix which is 28 days old, has a compressive strength of 79.99 MPa\n",
    "\n",
    "<b>Check how many data pointsiin the dataset"
   ]
  },
  {
   "cell_type": "code",
   "execution_count": 33,
   "metadata": {},
   "outputs": [
    {
     "data": {
      "text/plain": [
       "(1030, 9)"
      ]
     },
     "execution_count": 33,
     "metadata": {},
     "output_type": "execute_result"
    }
   ],
   "source": [
    "concrete_data.shape"
   ]
  },
  {
   "cell_type": "markdown",
   "metadata": {},
   "source": [
    "Let's check missing values in the dataset"
   ]
  },
  {
   "cell_type": "code",
   "execution_count": 34,
   "metadata": {},
   "outputs": [
    {
     "data": {
      "text/plain": [
       "Cement                0\n",
       "Blast Furnace Slag    0\n",
       "Fly Ash               0\n",
       "Water                 0\n",
       "Superplasticizer      0\n",
       "Coarse Aggregate      0\n",
       "Fine Aggregate        0\n",
       "Age                   0\n",
       "Strength              0\n",
       "dtype: int64"
      ]
     },
     "execution_count": 34,
     "metadata": {},
     "output_type": "execute_result"
    }
   ],
   "source": [
    "concrete_data.isnull().sum()"
   ]
  },
  {
   "cell_type": "markdown",
   "metadata": {},
   "source": [
    "The data in the dataset looks clean and is ready to be used to build our model.\n",
    "\n",
    "<b>Summary of the dataset"
   ]
  },
  {
   "cell_type": "code",
   "execution_count": 35,
   "metadata": {},
   "outputs": [
    {
     "data": {
      "text/html": [
       "<div>\n",
       "<style scoped>\n",
       "    .dataframe tbody tr th:only-of-type {\n",
       "        vertical-align: middle;\n",
       "    }\n",
       "\n",
       "    .dataframe tbody tr th {\n",
       "        vertical-align: top;\n",
       "    }\n",
       "\n",
       "    .dataframe thead th {\n",
       "        text-align: right;\n",
       "    }\n",
       "</style>\n",
       "<table border=\"1\" class=\"dataframe\">\n",
       "  <thead>\n",
       "    <tr style=\"text-align: right;\">\n",
       "      <th></th>\n",
       "      <th>Cement</th>\n",
       "      <th>Blast Furnace Slag</th>\n",
       "      <th>Fly Ash</th>\n",
       "      <th>Water</th>\n",
       "      <th>Superplasticizer</th>\n",
       "      <th>Coarse Aggregate</th>\n",
       "      <th>Fine Aggregate</th>\n",
       "      <th>Age</th>\n",
       "      <th>Strength</th>\n",
       "    </tr>\n",
       "  </thead>\n",
       "  <tbody>\n",
       "    <tr>\n",
       "      <th>count</th>\n",
       "      <td>1030.000000</td>\n",
       "      <td>1030.000000</td>\n",
       "      <td>1030.000000</td>\n",
       "      <td>1030.000000</td>\n",
       "      <td>1030.000000</td>\n",
       "      <td>1030.000000</td>\n",
       "      <td>1030.000000</td>\n",
       "      <td>1030.000000</td>\n",
       "      <td>1030.000000</td>\n",
       "    </tr>\n",
       "    <tr>\n",
       "      <th>mean</th>\n",
       "      <td>281.167864</td>\n",
       "      <td>73.895825</td>\n",
       "      <td>54.188350</td>\n",
       "      <td>181.567282</td>\n",
       "      <td>6.204660</td>\n",
       "      <td>972.918932</td>\n",
       "      <td>773.580485</td>\n",
       "      <td>45.662136</td>\n",
       "      <td>35.817961</td>\n",
       "    </tr>\n",
       "    <tr>\n",
       "      <th>std</th>\n",
       "      <td>104.506364</td>\n",
       "      <td>86.279342</td>\n",
       "      <td>63.997004</td>\n",
       "      <td>21.354219</td>\n",
       "      <td>5.973841</td>\n",
       "      <td>77.753954</td>\n",
       "      <td>80.175980</td>\n",
       "      <td>63.169912</td>\n",
       "      <td>16.705742</td>\n",
       "    </tr>\n",
       "    <tr>\n",
       "      <th>min</th>\n",
       "      <td>102.000000</td>\n",
       "      <td>0.000000</td>\n",
       "      <td>0.000000</td>\n",
       "      <td>121.800000</td>\n",
       "      <td>0.000000</td>\n",
       "      <td>801.000000</td>\n",
       "      <td>594.000000</td>\n",
       "      <td>1.000000</td>\n",
       "      <td>2.330000</td>\n",
       "    </tr>\n",
       "    <tr>\n",
       "      <th>25%</th>\n",
       "      <td>192.375000</td>\n",
       "      <td>0.000000</td>\n",
       "      <td>0.000000</td>\n",
       "      <td>164.900000</td>\n",
       "      <td>0.000000</td>\n",
       "      <td>932.000000</td>\n",
       "      <td>730.950000</td>\n",
       "      <td>7.000000</td>\n",
       "      <td>23.710000</td>\n",
       "    </tr>\n",
       "    <tr>\n",
       "      <th>50%</th>\n",
       "      <td>272.900000</td>\n",
       "      <td>22.000000</td>\n",
       "      <td>0.000000</td>\n",
       "      <td>185.000000</td>\n",
       "      <td>6.400000</td>\n",
       "      <td>968.000000</td>\n",
       "      <td>779.500000</td>\n",
       "      <td>28.000000</td>\n",
       "      <td>34.445000</td>\n",
       "    </tr>\n",
       "    <tr>\n",
       "      <th>75%</th>\n",
       "      <td>350.000000</td>\n",
       "      <td>142.950000</td>\n",
       "      <td>118.300000</td>\n",
       "      <td>192.000000</td>\n",
       "      <td>10.200000</td>\n",
       "      <td>1029.400000</td>\n",
       "      <td>824.000000</td>\n",
       "      <td>56.000000</td>\n",
       "      <td>46.135000</td>\n",
       "    </tr>\n",
       "    <tr>\n",
       "      <th>max</th>\n",
       "      <td>540.000000</td>\n",
       "      <td>359.400000</td>\n",
       "      <td>200.100000</td>\n",
       "      <td>247.000000</td>\n",
       "      <td>32.200000</td>\n",
       "      <td>1145.000000</td>\n",
       "      <td>992.600000</td>\n",
       "      <td>365.000000</td>\n",
       "      <td>82.600000</td>\n",
       "    </tr>\n",
       "  </tbody>\n",
       "</table>\n",
       "</div>"
      ],
      "text/plain": [
       "            Cement  Blast Furnace Slag      Fly Ash        Water  \\\n",
       "count  1030.000000         1030.000000  1030.000000  1030.000000   \n",
       "mean    281.167864           73.895825    54.188350   181.567282   \n",
       "std     104.506364           86.279342    63.997004    21.354219   \n",
       "min     102.000000            0.000000     0.000000   121.800000   \n",
       "25%     192.375000            0.000000     0.000000   164.900000   \n",
       "50%     272.900000           22.000000     0.000000   185.000000   \n",
       "75%     350.000000          142.950000   118.300000   192.000000   \n",
       "max     540.000000          359.400000   200.100000   247.000000   \n",
       "\n",
       "       Superplasticizer  Coarse Aggregate  Fine Aggregate          Age  \\\n",
       "count       1030.000000       1030.000000     1030.000000  1030.000000   \n",
       "mean           6.204660        972.918932      773.580485    45.662136   \n",
       "std            5.973841         77.753954       80.175980    63.169912   \n",
       "min            0.000000        801.000000      594.000000     1.000000   \n",
       "25%            0.000000        932.000000      730.950000     7.000000   \n",
       "50%            6.400000        968.000000      779.500000    28.000000   \n",
       "75%           10.200000       1029.400000      824.000000    56.000000   \n",
       "max           32.200000       1145.000000      992.600000   365.000000   \n",
       "\n",
       "          Strength  \n",
       "count  1030.000000  \n",
       "mean     35.817961  \n",
       "std      16.705742  \n",
       "min       2.330000  \n",
       "25%      23.710000  \n",
       "50%      34.445000  \n",
       "75%      46.135000  \n",
       "max      82.600000  "
      ]
     },
     "execution_count": 35,
     "metadata": {},
     "output_type": "execute_result"
    }
   ],
   "source": [
    "concrete_data.describe()"
   ]
  },
  {
   "cell_type": "markdown",
   "metadata": {},
   "source": [
    "<b>Splitting data into predictors and target</b>\n",
    "    \n",
    "The target variable in this problem is the concrete sample strength. Therefore, our predictors will be all the other columns."
   ]
  },
  {
   "cell_type": "code",
   "execution_count": 36,
   "metadata": {},
   "outputs": [],
   "source": [
    "concrete_data_columns = concrete_data.columns\n",
    "predictors = concrete_data[concrete_data_columns[concrete_data_columns != 'Strength']] # all columns except Strength\n",
    "target = concrete_data['Strength'] # Strength column"
   ]
  },
  {
   "cell_type": "markdown",
   "metadata": {},
   "source": [
    "Let's do a quick check of the predictors and the target dataframes."
   ]
  },
  {
   "cell_type": "code",
   "execution_count": 37,
   "metadata": {},
   "outputs": [
    {
     "data": {
      "text/html": [
       "<div>\n",
       "<style scoped>\n",
       "    .dataframe tbody tr th:only-of-type {\n",
       "        vertical-align: middle;\n",
       "    }\n",
       "\n",
       "    .dataframe tbody tr th {\n",
       "        vertical-align: top;\n",
       "    }\n",
       "\n",
       "    .dataframe thead th {\n",
       "        text-align: right;\n",
       "    }\n",
       "</style>\n",
       "<table border=\"1\" class=\"dataframe\">\n",
       "  <thead>\n",
       "    <tr style=\"text-align: right;\">\n",
       "      <th></th>\n",
       "      <th>Cement</th>\n",
       "      <th>Blast Furnace Slag</th>\n",
       "      <th>Fly Ash</th>\n",
       "      <th>Water</th>\n",
       "      <th>Superplasticizer</th>\n",
       "      <th>Coarse Aggregate</th>\n",
       "      <th>Fine Aggregate</th>\n",
       "      <th>Age</th>\n",
       "    </tr>\n",
       "  </thead>\n",
       "  <tbody>\n",
       "    <tr>\n",
       "      <th>0</th>\n",
       "      <td>540.0</td>\n",
       "      <td>0.0</td>\n",
       "      <td>0.0</td>\n",
       "      <td>162.0</td>\n",
       "      <td>2.5</td>\n",
       "      <td>1040.0</td>\n",
       "      <td>676.0</td>\n",
       "      <td>28</td>\n",
       "    </tr>\n",
       "    <tr>\n",
       "      <th>1</th>\n",
       "      <td>540.0</td>\n",
       "      <td>0.0</td>\n",
       "      <td>0.0</td>\n",
       "      <td>162.0</td>\n",
       "      <td>2.5</td>\n",
       "      <td>1055.0</td>\n",
       "      <td>676.0</td>\n",
       "      <td>28</td>\n",
       "    </tr>\n",
       "    <tr>\n",
       "      <th>2</th>\n",
       "      <td>332.5</td>\n",
       "      <td>142.5</td>\n",
       "      <td>0.0</td>\n",
       "      <td>228.0</td>\n",
       "      <td>0.0</td>\n",
       "      <td>932.0</td>\n",
       "      <td>594.0</td>\n",
       "      <td>270</td>\n",
       "    </tr>\n",
       "    <tr>\n",
       "      <th>3</th>\n",
       "      <td>332.5</td>\n",
       "      <td>142.5</td>\n",
       "      <td>0.0</td>\n",
       "      <td>228.0</td>\n",
       "      <td>0.0</td>\n",
       "      <td>932.0</td>\n",
       "      <td>594.0</td>\n",
       "      <td>365</td>\n",
       "    </tr>\n",
       "    <tr>\n",
       "      <th>4</th>\n",
       "      <td>198.6</td>\n",
       "      <td>132.4</td>\n",
       "      <td>0.0</td>\n",
       "      <td>192.0</td>\n",
       "      <td>0.0</td>\n",
       "      <td>978.4</td>\n",
       "      <td>825.5</td>\n",
       "      <td>360</td>\n",
       "    </tr>\n",
       "  </tbody>\n",
       "</table>\n",
       "</div>"
      ],
      "text/plain": [
       "   Cement  Blast Furnace Slag  Fly Ash  Water  Superplasticizer  \\\n",
       "0   540.0                 0.0      0.0  162.0               2.5   \n",
       "1   540.0                 0.0      0.0  162.0               2.5   \n",
       "2   332.5               142.5      0.0  228.0               0.0   \n",
       "3   332.5               142.5      0.0  228.0               0.0   \n",
       "4   198.6               132.4      0.0  192.0               0.0   \n",
       "\n",
       "   Coarse Aggregate  Fine Aggregate  Age  \n",
       "0            1040.0           676.0   28  \n",
       "1            1055.0           676.0   28  \n",
       "2             932.0           594.0  270  \n",
       "3             932.0           594.0  365  \n",
       "4             978.4           825.5  360  "
      ]
     },
     "execution_count": 37,
     "metadata": {},
     "output_type": "execute_result"
    }
   ],
   "source": [
    "predictors.head()"
   ]
  },
  {
   "cell_type": "code",
   "execution_count": 38,
   "metadata": {},
   "outputs": [
    {
     "data": {
      "text/plain": [
       "0    79.99\n",
       "1    61.89\n",
       "2    40.27\n",
       "3    41.05\n",
       "4    44.30\n",
       "Name: Strength, dtype: float64"
      ]
     },
     "execution_count": 38,
     "metadata": {},
     "output_type": "execute_result"
    }
   ],
   "source": [
    "target.head()"
   ]
  },
  {
   "cell_type": "code",
   "execution_count": 39,
   "metadata": {},
   "outputs": [
    {
     "data": {
      "text/plain": [
       "8"
      ]
     },
     "execution_count": 39,
     "metadata": {},
     "output_type": "execute_result"
    }
   ],
   "source": [
    "n_cols = predictors.shape[1] # number of predictors\n",
    "n_cols"
   ]
  },
  {
   "cell_type": "markdown",
   "metadata": {},
   "source": [
    "<b>Building a our regressoin model.</b>\n",
    "<br>It has one hidden layer with 10 neurons and a ReLU activation function. It uses the adam optimizer and the mean squared error as the loss function."
   ]
  },
  {
   "cell_type": "code",
   "execution_count": 40,
   "metadata": {},
   "outputs": [],
   "source": [
    "# define regression model\n",
    "def regression_model():\n",
    "    # create model\n",
    "    model = Sequential()\n",
    "    model.add(Dense(10, activation='relu', input_shape=(n_cols,)))\n",
    "    model.add(Dense(1))\n",
    "    \n",
    "    # compile model\n",
    "    model.compile(optimizer='adam', loss='mean_squared_error')\n",
    "    return model"
   ]
  },
  {
   "cell_type": "markdown",
   "metadata": {},
   "source": [
    "<b>Splitting the data into a training and test sets by holding 30% of the data for testing</b>"
   ]
  },
  {
   "cell_type": "code",
   "execution_count": 41,
   "metadata": {},
   "outputs": [],
   "source": [
    "predictors_train, predictors_test, target_train, target_test = train_test_split(predictors, target, test_size=0.3, random_state=42)"
   ]
  },
  {
   "cell_type": "markdown",
   "metadata": {},
   "source": [
    "Let's call the function now to create our model."
   ]
  },
  {
   "cell_type": "code",
   "execution_count": 42,
   "metadata": {},
   "outputs": [],
   "source": [
    "# build the model\n",
    "model = regression_model()"
   ]
  },
  {
   "cell_type": "markdown",
   "metadata": {},
   "source": [
    "Next, we will train the model for 50 epochs."
   ]
  },
  {
   "cell_type": "code",
   "execution_count": 43,
   "metadata": {},
   "outputs": [
    {
     "name": "stdout",
     "output_type": "stream",
     "text": [
      "Epoch 1/50\n",
      "721/721 [==============================] - 0s 111us/step - loss: 59880.9503\n",
      "Epoch 2/50\n",
      "721/721 [==============================] - 0s 47us/step - loss: 13174.4587\n",
      "Epoch 3/50\n",
      "721/721 [==============================] - 0s 50us/step - loss: 8889.7897\n",
      "Epoch 4/50\n",
      "721/721 [==============================] - 0s 48us/step - loss: 7857.7587\n",
      "Epoch 5/50\n",
      "721/721 [==============================] - 0s 50us/step - loss: 6980.2269\n",
      "Epoch 6/50\n",
      "721/721 [==============================] - 0s 60us/step - loss: 6239.2959\n",
      "Epoch 7/50\n",
      "721/721 [==============================] - 0s 50us/step - loss: 5628.0384\n",
      "Epoch 8/50\n",
      "721/721 [==============================] - 0s 46us/step - loss: 5026.6212\n",
      "Epoch 9/50\n",
      "721/721 [==============================] - 0s 47us/step - loss: 4527.3730\n",
      "Epoch 10/50\n",
      "721/721 [==============================] - 0s 43us/step - loss: 4096.7900\n",
      "Epoch 11/50\n",
      "721/721 [==============================] - ETA: 0s - loss: 4982.28 - 0s 44us/step - loss: 3705.5245\n",
      "Epoch 12/50\n",
      "721/721 [==============================] - 0s 43us/step - loss: 3376.9145\n",
      "Epoch 13/50\n",
      "721/721 [==============================] - 0s 46us/step - loss: 3074.2823\n",
      "Epoch 14/50\n",
      "721/721 [==============================] - 0s 37us/step - loss: 2820.1875\n",
      "Epoch 15/50\n",
      "721/721 [==============================] - 0s 51us/step - loss: 2588.3318\n",
      "Epoch 16/50\n",
      "721/721 [==============================] - 0s 43us/step - loss: 2383.4628\n",
      "Epoch 17/50\n",
      "721/721 [==============================] - 0s 47us/step - loss: 2208.3914\n",
      "Epoch 18/50\n",
      "721/721 [==============================] - 0s 47us/step - loss: 2051.0826\n",
      "Epoch 19/50\n",
      "721/721 [==============================] - 0s 41us/step - loss: 1904.2910\n",
      "Epoch 20/50\n",
      "721/721 [==============================] - 0s 48us/step - loss: 1778.9773\n",
      "Epoch 21/50\n",
      "721/721 [==============================] - 0s 37us/step - loss: 1668.5626\n",
      "Epoch 22/50\n",
      "721/721 [==============================] - 0s 37us/step - loss: 1566.9992\n",
      "Epoch 23/50\n",
      "721/721 [==============================] - 0s 37us/step - loss: 1472.0768\n",
      "Epoch 24/50\n",
      "721/721 [==============================] - 0s 41us/step - loss: 1393.6515\n",
      "Epoch 25/50\n",
      "721/721 [==============================] - 0s 46us/step - loss: 1311.9168\n",
      "Epoch 26/50\n",
      "721/721 [==============================] - 0s 48us/step - loss: 1244.9698\n",
      "Epoch 27/50\n",
      "721/721 [==============================] - 0s 33us/step - loss: 1180.7594\n",
      "Epoch 28/50\n",
      "721/721 [==============================] - 0s 43us/step - loss: 1118.5830\n",
      "Epoch 29/50\n",
      "721/721 [==============================] - 0s 33us/step - loss: 1060.6443\n",
      "Epoch 30/50\n",
      "721/721 [==============================] - 0s 36us/step - loss: 1009.3993\n",
      "Epoch 31/50\n",
      "721/721 [==============================] - 0s 44us/step - loss: 958.5140\n",
      "Epoch 32/50\n",
      "721/721 [==============================] - 0s 35us/step - loss: 913.5898\n",
      "Epoch 33/50\n",
      "721/721 [==============================] - 0s 35us/step - loss: 872.5334\n",
      "Epoch 34/50\n",
      "721/721 [==============================] - 0s 37us/step - loss: 830.4512\n",
      "Epoch 35/50\n",
      "721/721 [==============================] - 0s 41us/step - loss: 798.5761\n",
      "Epoch 36/50\n",
      "721/721 [==============================] - 0s 40us/step - loss: 754.7774\n",
      "Epoch 37/50\n",
      "721/721 [==============================] - 0s 33us/step - loss: 724.1800\n",
      "Epoch 38/50\n",
      "721/721 [==============================] - 0s 48us/step - loss: 688.1205\n",
      "Epoch 39/50\n",
      "721/721 [==============================] - 0s 36us/step - loss: 653.3717\n",
      "Epoch 40/50\n",
      "721/721 [==============================] - 0s 44us/step - loss: 623.3107\n",
      "Epoch 41/50\n",
      "721/721 [==============================] - 0s 36us/step - loss: 595.4196\n",
      "Epoch 42/50\n",
      "721/721 [==============================] - 0s 37us/step - loss: 570.6535\n",
      "Epoch 43/50\n",
      "721/721 [==============================] - 0s 35us/step - loss: 546.2722\n",
      "Epoch 44/50\n",
      "721/721 [==============================] - 0s 37us/step - loss: 520.7919\n",
      "Epoch 45/50\n",
      "721/721 [==============================] - 0s 33us/step - loss: 497.2099\n",
      "Epoch 46/50\n",
      "721/721 [==============================] - 0s 41us/step - loss: 475.0430\n",
      "Epoch 47/50\n",
      "721/721 [==============================] - 0s 39us/step - loss: 455.6316\n",
      "Epoch 48/50\n",
      "721/721 [==============================] - 0s 41us/step - loss: 437.9274\n",
      "Epoch 49/50\n",
      "721/721 [==============================] - 0s 40us/step - loss: 421.3886\n",
      "Epoch 50/50\n",
      "721/721 [==============================] - 0s 44us/step - loss: 405.0678\n"
     ]
    },
    {
     "data": {
      "text/plain": [
       "<keras.callbacks.callbacks.History at 0x289c8e44668>"
      ]
     },
     "execution_count": 43,
     "metadata": {},
     "output_type": "execute_result"
    }
   ],
   "source": [
    "# fit the model\n",
    "epochs = 50\n",
    "model.fit(predictors_train, target_train, epochs=epochs, verbose=1)"
   ]
  },
  {
   "cell_type": "markdown",
   "metadata": {},
   "source": [
    "Next we need to evaluate the model on the test data"
   ]
  },
  {
   "cell_type": "code",
   "execution_count": 44,
   "metadata": {},
   "outputs": [
    {
     "name": "stdout",
     "output_type": "stream",
     "text": [
      "309/309 [==============================] - 0s 45us/step\n",
      "Loss value from test data : 413.6012930762035\n"
     ]
    }
   ],
   "source": [
    "loss_val = model.evaluate(predictors_test, target_test)\n",
    "target_pred = model.predict(predictors_test)\n",
    "print(\"Loss value from test data : {}\".format(loss_val))"
   ]
  },
  {
   "cell_type": "markdown",
   "metadata": {},
   "source": [
    "Next, we need to compute the mean squared error between the predicted concrete strength and the actual concrete strength.\n",
    "\n",
    "Let's import the mean_squared_error function from Scikit-learn."
   ]
  },
  {
   "cell_type": "code",
   "execution_count": 45,
   "metadata": {},
   "outputs": [],
   "source": [
    "from sklearn.metrics import mean_squared_error"
   ]
  },
  {
   "cell_type": "code",
   "execution_count": 46,
   "metadata": {},
   "outputs": [
    {
     "name": "stdout",
     "output_type": "stream",
     "text": [
      "Mean : 413.6013007622767, Standard Deviation : 0.0\n"
     ]
    }
   ],
   "source": [
    "mse = mean_squared_error(target_test, target_pred)\n",
    "mean = np.mean(mse)\n",
    "std = np.std(mse)\n",
    "print(\"Mean : {}, Standard Deviation : {}\".format(mean, std))"
   ]
  },
  {
   "cell_type": "markdown",
   "metadata": {},
   "source": [
    "Ceate a list of 50 mean squared errors and report mean and the standard deviation of the mean squared errors."
   ]
  },
  {
   "cell_type": "code",
   "execution_count": 47,
   "metadata": {},
   "outputs": [
    {
     "name": "stdout",
     "output_type": "stream",
     "text": [
      "1. Mean squared error 108.43270411074741 \n",
      "2. Mean squared error 111.62944351739482 \n",
      "3. Mean squared error 93.42067795046711 \n",
      "4. Mean squared error 104.40515000920466 \n",
      "5. Mean squared error 84.8316264723497 \n",
      "6. Mean squared error 74.17859686694099 \n",
      "7. Mean squared error 74.27852188653544 \n",
      "8. Mean squared error 67.57202789158497 \n",
      "9. Mean squared error 55.13566167146257 \n",
      "10. Mean squared error 55.27983758673313 \n",
      "11. Mean squared error 56.207173134516744 \n",
      "12. Mean squared error 44.98101826393103 \n",
      "13. Mean squared error 61.153713559641425 \n",
      "14. Mean squared error 54.478682237149826 \n",
      "15. Mean squared error 55.054148961039424 \n",
      "16. Mean squared error 52.552983330291454 \n",
      "17. Mean squared error 49.547627668164694 \n",
      "18. Mean squared error 51.65475223133865 \n",
      "19. Mean squared error 47.895432469142676 \n",
      "20. Mean squared error 47.857161623760334 \n",
      "21. Mean squared error 45.54852756636043 \n",
      "22. Mean squared error 52.24282881357137 \n",
      "23. Mean squared error 45.2308139245487 \n",
      "24. Mean squared error 46.20223770635413 \n",
      "25. Mean squared error 50.91740875491047 \n",
      "26. Mean squared error 48.587460366653396 \n",
      "27. Mean squared error 74.60165042321658 \n",
      "28. Mean squared error 51.43081978609647 \n",
      "29. Mean squared error 57.62983922125066 \n",
      "30. Mean squared error 64.00335445218873 \n",
      "31. Mean squared error 53.8334266637907 \n",
      "32. Mean squared error 44.11583544289796 \n",
      "33. Mean squared error 46.598802362830895 \n",
      "34. Mean squared error 53.56664713146617 \n",
      "35. Mean squared error 44.21011416734615 \n",
      "36. Mean squared error 56.372350748302864 \n",
      "37. Mean squared error 51.14865819073032 \n",
      "38. Mean squared error 50.70492921600836 \n",
      "39. Mean squared error 47.93602121840789 \n",
      "40. Mean squared error 40.53536986070158 \n",
      "41. Mean squared error 52.43258306509468 \n",
      "42. Mean squared error 41.06317778158342 \n",
      "43. Mean squared error 44.72218542500221 \n",
      "44. Mean squared error 59.05968267940781 \n",
      "45. Mean squared error 50.37946902278172 \n",
      "46. Mean squared error 52.259605592894324 \n",
      "47. Mean squared error 49.95623490416888 \n",
      "48. Mean squared error 61.30986262448012 \n",
      "49. Mean squared error 48.239032152787 \n",
      "50. Mean squared error 48.55198741036325 \n",
      "\n",
      "*************************************************\n",
      "\n",
      "Mean and Standard deviation of 50 mean squared errors without normalized data. Total number of epochs for each training is : 50 \n",
      "\n",
      " *************************************************\n",
      "\n",
      "Mean : 57.67875689894091 and Standard Deviation : 16.502199600302443 \n",
      "\n",
      "=================================================\n",
      "\n"
     ]
    }
   ],
   "source": [
    "no_of_mses = 50\n",
    "epochs = 50\n",
    "mse_list = []\n",
    "for i in range(0, no_of_mses):\n",
    "    predictors_train, predictors_test, target_train, target_test = train_test_split(predictors, target, test_size=0.3, random_state=i)\n",
    "    model.fit(predictors_train, target_train, epochs=epochs, verbose=0)\n",
    "    loss_val = model.evaluate(predictors_test, target_test, verbose=0)\n",
    "    print(\"{}. Mean squared error {} \".format(i+1, loss_val))\n",
    "    target_pred = model.predict(predictors_test)\n",
    "    mse = mean_squared_error(target_test, target_pred)\n",
    "    mse_list.append(mse)\n",
    "\n",
    "mse_array = np.array(mse_list)\n",
    "mean = np.mean(mse_array)\n",
    "std = np.std(mse_array)\n",
    "\n",
    "print('\\n*************************************************\\n')\n",
    "print(\"Mean and Standard deviation of {} mean squared errors without normalized data. Total number of epochs for each training is : {} \".format(no_of_mses, epochs))\n",
    "print('\\n *************************************************\\n')\n",
    "print(\"Mean : {} and Standard Deviation : {} \".format(mean,std))\n",
    "print('\\n=================================================\\n')\n"
   ]
  },
  {
   "cell_type": "code",
   "execution_count": null,
   "metadata": {},
   "outputs": [],
   "source": []
  }
 ],
 "metadata": {
  "kernelspec": {
   "display_name": "Python 3",
   "language": "python",
   "name": "python3"
  },
  "language_info": {
   "codemirror_mode": {
    "name": "ipython",
    "version": 3
   },
   "file_extension": ".py",
   "mimetype": "text/x-python",
   "name": "python",
   "nbconvert_exporter": "python",
   "pygments_lexer": "ipython3",
   "version": "3.6.5"
  }
 },
 "nbformat": 4,
 "nbformat_minor": 2
}
